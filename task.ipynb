{
 "cells": [
  {
   "cell_type": "markdown",
   "metadata": {},
   "source": [
    "# 1-st task"
   ]
  },
  {
   "cell_type": "code",
   "execution_count": 4,
   "metadata": {},
   "outputs": [
    {
     "name": "stdout",
     "output_type": "stream",
     "text": [
      "0\n"
     ]
    }
   ],
   "source": [
    "def count(string:str):\n",
    "    counter = 0\n",
    "    string.lower()\n",
    "    for i in set(string):\n",
    "        if string.count(i)>1:\n",
    "            counter +=1\n",
    "    return counter\n",
    "\n",
    "string = input()\n",
    "print(count(string))"
   ]
  },
  {
   "cell_type": "markdown",
   "metadata": {},
   "source": [
    "# 2-ond task"
   ]
  },
  {
   "cell_type": "code",
   "execution_count": 5,
   "metadata": {},
   "outputs": [
    {
     "ename": "ValueError",
     "evalue": "invalid literal for int() with base 10: ''",
     "output_type": "error",
     "traceback": [
      "\u001b[0;31m---------------------------------------------------------------------------\u001b[0m",
      "\u001b[0;31mValueError\u001b[0m                                Traceback (most recent call last)",
      "\u001b[1;32m/home/vadim/Desktop/task.ipynb Ячейка 4\u001b[0m line \u001b[0;36m1\n\u001b[0;32m----> <a href='vscode-notebook-cell:/home/vadim/Desktop/task.ipynb#W3sZmlsZQ%3D%3D?line=0'>1</a>\u001b[0m \u001b[39mprint\u001b[39m([\u001b[39m1\u001b[39m, \u001b[39m'\u001b[39m\u001b[39mi\u001b[39m\u001b[39m'\u001b[39m, \u001b[39m-\u001b[39m\u001b[39m1\u001b[39m, \u001b[39m'\u001b[39m\u001b[39m-i\u001b[39m\u001b[39m'\u001b[39m][\u001b[39mint\u001b[39;49m(\u001b[39minput\u001b[39;49m())\u001b[39m%\u001b[39m\u001b[39m4\u001b[39m])\n",
      "\u001b[0;31mValueError\u001b[0m: invalid literal for int() with base 10: ''"
     ]
    }
   ],
   "source": [
    "\n",
    "print([1, 'i', -1, '-i'][int(input())%4])"
   ]
  },
  {
   "cell_type": "markdown",
   "metadata": {},
   "source": [
    "# 2.1 task"
   ]
  },
  {
   "cell_type": "code",
   "execution_count": 23,
   "metadata": {},
   "outputs": [
    {
     "name": "stdout",
     "output_type": "stream",
     "text": [
      "['2', '3', '4', '5', '1']\n"
     ]
    }
   ],
   "source": [
    "\n",
    "def move(lst,steps):\n",
    "    if steps[0] == 'F':\n",
    "        return lst[len(lst) - int(steps[1]):] + lst[:len(a) - int(steps[1])] \n",
    "    elif steps[0] == 'B':\n",
    "        return lst[int(steps[1]):] + lst[:int(steps[1])]\n",
    "    else:\n",
    "        return \"Error! Wrong key!\"\n",
    "lst = input().split()\n",
    "steps = input()\n",
    "print(move(lst,steps))"
   ]
  }
 ],
 "metadata": {
  "kernelspec": {
   "display_name": "Python 3",
   "language": "python",
   "name": "python3"
  },
  "language_info": {
   "codemirror_mode": {
    "name": "ipython",
    "version": 3
   },
   "file_extension": ".py",
   "mimetype": "text/x-python",
   "name": "python",
   "nbconvert_exporter": "python",
   "pygments_lexer": "ipython3",
   "version": "3.10.12"
  },
  "orig_nbformat": 4
 },
 "nbformat": 4,
 "nbformat_minor": 2
}
